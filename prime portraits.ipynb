{
 "cells": [
  {
   "cell_type": "code",
   "execution_count": 1,
   "metadata": {
    "jupyter": {
     "source_hidden": true
    }
   },
   "outputs": [],
   "source": [
    "import matplotlib.pyplot as plt\n",
    "%matplotlib inline\n",
    "\n",
    "import numpy as np\n",
    "import skimage.transform\n",
    "import skimage.io\n",
    "from sklearn.cluster import KMeans\n",
    "import scipy.misc\n",
    "import PIL\n",
    "from PIL import Image, ImageFont, ImageDraw\n",
    "\n",
    "import numpy as np\n",
    "\n",
    "from multiprocessing import Pool\n",
    "import time\n",
    "import random\n",
    "import warnings"
   ]
  },
  {
   "cell_type": "code",
   "execution_count": 2,
   "metadata": {},
   "outputs": [],
   "source": [
    "def try_composite(a, d, n, s):\n",
    "    # test the base a to see whether it is a witness for the compositeness of n\n",
    "    if pow(a, d, n) == 1:\n",
    "        return False\n",
    "    for i in range(s):\n",
    "        if pow(a, 2**i * d, n) == n-1:\n",
    "            return False\n",
    "    return True # n is definitely composite\n",
    "\n",
    "    \n",
    "def is_probable_prime(n, mrpt_num_trials = 5):\n",
    "    \"\"\"\n",
    "    Miller-Rabin primality test.\n",
    " \n",
    "    A return value of False means n is certainly not prime. A return value of\n",
    "    True means n is very likely a prime.\n",
    "\n",
    "    \"\"\"\n",
    "    assert n >= 2\n",
    "    # special case 2\n",
    "    if n == 2:\n",
    "        return True\n",
    "    # ensure n is odd\n",
    "    if n % 2 == 0:\n",
    "        return False\n",
    "    # write n-1 as 2**s * d\n",
    "    # repeatedly try to divide n-1 by 2\n",
    "    s = 0\n",
    "    d = n-1\n",
    "    while True:\n",
    "        quotient, remainder = divmod(d, 2)\n",
    "        if remainder == 1:\n",
    "            break\n",
    "        s += 1\n",
    "        d = quotient\n",
    "    assert(2**s * d == n-1)\n",
    "                                     \n",
    "    for i in range(mrpt_num_trials):\n",
    "        a = random.randrange(2, n)\n",
    "        if try_composite(a, d, n, s):\n",
    "            return False\n",
    "        \n",
    "    return True # no base tested showed n as composite\n",
    "\n",
    "assert is_probable_prime(2)\n",
    "assert is_probable_prime(3)\n",
    "assert not is_probable_prime(4)\n",
    "assert  is_probable_prime(5)\n",
    "assert not is_probable_prime(123456789)\n",
    "primes_under_1000 = [i for i in range(2, 1000) if is_probable_prime(i)]\n",
    "assert len(primes_under_1000) == 168\n",
    "assert primes_under_1000[-10:] == [937, 941, 947, 953, 967, 971, 977, 983, 991, 997]\n",
    "assert is_probable_prime(643808006803554439230129854961492699151386107534013432918073439524138264842370630061369715394739134090922937332590384720397133335969549256322620979036686633213903952966175107096769180017646161851573147596390153)\n",
    "assert not is_probable_prime(743808006803554439230129854961492699151386107534013432918073439524138264842370630061369715394739134090922937332590384720397133335969549256322620979036686633213903952966175107096769180017646161851573147596390153)\n"
   ]
  },
  {
   "cell_type": "code",
   "execution_count": 3,
   "metadata": {},
   "outputs": [],
   "source": [
    "def get_k_means(image):\n",
    "    pointcloud = np.reshape(image, (-1, 3))\n",
    "    kmeans = KMeans(n_clusters=10).fit(pointcloud)\n",
    "    return kmeans\n",
    "\n",
    "def create_numbered_image(image, kmeans):\n",
    "    \"\"\"\n",
    "    Turns an RGB image into an image with the labels of clusters of the supplied kmeans classifier. \n",
    "    \"\"\"\n",
    "    # apply noise\n",
    "    stdev = np.std(image)\n",
    "    random_noise = np.random.random_sample(size=image.shape)*(stdev/3)\n",
    "    image = image + random_noise\n",
    "    \n",
    "    orig_shape = image.shape\n",
    "    image = np.reshape(image, (-1, 3))\n",
    "\n",
    "    numbered_image = kmeans.predict(image)\n",
    "    numbered_image = np.reshape(numbered_image, orig_shape[:2])\n",
    "    \n",
    "    # make sure the end is uneven\n",
    "    if numbered_image[-1,-1]%2==0:\n",
    "        numbered_image[-1,-1] += 1\n",
    "\n",
    "    return numbered_image\n",
    "\n",
    "def numbered_image_to_normal_image(numbered_image, kmeans):\n",
    "    \"\"\"\n",
    "    Turns an image with only values between 0 and 9 into a colored image by using the cluster centers \n",
    "    of the supplied kmeans classifier. \n",
    "    \"\"\"\n",
    "    shape = (numbered_image.shape[0], numbered_image.shape[1], 3)\n",
    "    image = np.zeros(shape)\n",
    "    for label, color in zip(range(10), kmeans.cluster_centers_):\n",
    "        image[numbered_image==label] = color\n",
    "    return image\n"
   ]
  },
  {
   "cell_type": "code",
   "execution_count": 4,
   "metadata": {},
   "outputs": [
    {
     "data": {
      "image/png": "[encoded data removed]",
      "text/plain": [
       "<Figure size 432x288 with 1 Axes>"
      ]
     },
     "metadata": {
      "needs_background": "light"
     },
     "output_type": "display_data"
    },
    {
     "data": {
      "image/png": "[encoded data removed]",
      "text/plain": [
       "<Figure size 432x288 with 1 Axes>"
      ]
     },
     "metadata": {
      "needs_background": "light"
     },
     "output_type": "display_data"
    },
    {
     "data": {
      "image/png": "[encoded data removed]",
      "text/plain": [
       "<Figure size 432x288 with 1 Axes>"
      ]
     },
     "metadata": {
      "needs_background": "light"
     },
     "output_type": "display_data"
    }
   ],
   "source": [
    "def load_and_resize_image(filename, resize_factor=18):\n",
    "    image = skimage.io.imread(filename)\n",
    "    image = image.astype(np.float64)\n",
    "    image = image / 255.\n",
    "    \n",
    "    oldshape = image.shape\n",
    "    with warnings.catch_warnings():\n",
    "        warnings.simplefilter(\"ignore\")\n",
    "        resized_image = skimage.transform.resize(image, (oldshape[0]//resize_factor, oldshape[1]//resize_factor))\n",
    "\n",
    "    return resized_image\n",
    "\n",
    "resized_image = load_and_resize_image('input_pictures/scream.jpg')\n",
    "kmeans = get_k_means(resized_image)\n",
    "for _ in range(3):\n",
    "    n_image = create_numbered_image(resized_image, kmeans)\n",
    "    normal_image = numbered_image_to_normal_image(n_image, kmeans)\n",
    "    \n",
    "    plt.imshow(normal_image)\n",
    "    plt.show()"
   ]
  },
  {
   "cell_type": "code",
   "execution_count": 5,
   "metadata": {},
   "outputs": [],
   "source": [
    "def image_to_number(numbered_image):\n",
    "    to_be_number = numbered_image.reshape(-1)\n",
    "    as_string = ''.join([str(int(x)) for x in to_be_number])\n",
    "    as_int = int(as_string)\n",
    "    return as_int, as_string\n",
    "\n",
    "\n",
    "def show_and_save_image(image, n_image, filename, fontsize=16):\n",
    "    oldshape = image.shape\n",
    "    pimmage = Image.fromarray((image * 255).astype(np.uint8))\n",
    "    resized_image = np.array(pimmage.resize((oldshape[1]*fontsize, oldshape[0]*fontsize), resample=PIL.Image.NEAREST))\n",
    "    img = Image.fromarray(resized_image).convert(\"RGBA\")\n",
    "    txt = Image.new('RGBA', img.size, (255,255,255,0))\n",
    "\n",
    "    draw = ImageDraw.Draw(txt)\n",
    "    font = ImageFont.truetype(\"roboto rg.ttf\", fontsize)\n",
    "    for y_i, totype in enumerate(n_image):\n",
    "        for x_i, letter in enumerate(totype):\n",
    "            xpos = x_i * fontsize + 1\n",
    "            ypos = y_i * fontsize\n",
    "            if letter == 1:\n",
    "                xpos += 4\n",
    "            draw.text((xpos, ypos),str(letter),(255,255,255, 128),font=font)\n",
    "    img = Image.alpha_composite(img, txt)    \n",
    "\n",
    "    img.save(filename)\n",
    "    plt.figure(figsize=(20,20))\n",
    "    plt.imshow(img)\n",
    "    plt.show()\n",
    "\n",
    "def result_filename(filename):\n",
    "    return filename.split('.')[0] + \"-prime.png\""
   ]
  },
  {
   "cell_type": "code",
   "execution_count": 6,
   "metadata": {},
   "outputs": [],
   "source": [
    "def is_good_prime_portrait(n_image):\n",
    "    integer, string = image_to_number(n_image)\n",
    "    if is_probable_prime(integer): \n",
    "        return integer, string, n_image\n",
    "    else:\n",
    "        return None\n",
    "    \n",
    "    \n",
    "def print_result(string, n_image):\n",
    "    print(string)\n",
    "    print(\"-\"*100)\n",
    "    for line in n_image:\n",
    "        print(''.join([str(x) for x in line]))\n"
   ]
  },
  {
   "cell_type": "code",
   "execution_count": 7,
   "metadata": {},
   "outputs": [],
   "source": [
    "def print_result(string, n_image):\n",
    "    print(\"Found a result: \" + \"-\"*100)\n",
    "    print(string)\n",
    "    print(\"Represented as portrait:\" + \"-\"*100)\n",
    "    for line in n_image:\n",
    "        print(''.join([str(x) for x in line]))\n",
    "\n",
    "def multi_threaded_prime_generator(resized_image, kmeans, filename, threads=4, log_process=True):\n",
    "    image_generator = (create_numbered_image(resized_image, kmeans) for _ in range(9999999))\n",
    "    start = time.time() \n",
    "    with Pool(threads) as pool:\n",
    "        results = pool.imap_unordered(is_good_prime_portrait, image_generator)\n",
    "        total_results = 0\n",
    "        \n",
    "        for result in results:\n",
    "            total_results += 1\n",
    "            \n",
    "            # Possibly log time spend searching this prime number\n",
    "            if log_process and total_results%30==0:\n",
    "                elapsed = time.time()\n",
    "                elapsed = elapsed - start\n",
    "                print(\"Seconds spent in (function name) is {} time per result: {}\".format(str(elapsed), str(elapsed/total_results)))\n",
    "\n",
    "                \n",
    "            if result != None: \n",
    "                # Found a prime number, print it and save it!\n",
    "                integer, string, n_image = result\n",
    "                print_result(string, n_image)\n",
    "                normal_image = numbered_image_to_normal_image(n_image, kmeans)\n",
    "                plt.imshow(normal_image)\n",
    "                plt.show()\n",
    "                show_and_save_image(normal_image, n_image, result_filename(filename))\n",
    "                break\n",
    "                \n",
    "                \n",
    "def search_prime_portrait(filename, resize_factor=16, log_process=True, threads=4):\n",
    "    resized_image = load_and_resize_image(filename, resize_factor=resize_factor)\n",
    "    print(\"Working with size \" + str(resized_image.shape))\n",
    "    kmeans = get_k_means(resized_image)\n",
    "    multi_threaded_prime_generator(resized_image, kmeans, filename, log_process=log_process, threads=threads)\n",
    "\n"
   ]
  },
  {
   "cell_type": "code",
   "execution_count": null,
   "metadata": {},
   "outputs": [
    {
     "name": "stdout",
     "output_type": "stream",
     "text": [
      "Working with size (37, 28, 3)\n"
     ]
    }
   ],
   "source": [
    "folder = 'input_pictures/'\n",
    "\n",
    "filenames = [\n",
    "    #folder + 'monalisa.jpg',\n",
    "    #folder + 'sunflowers.jpg',\n",
    "    #folder + 'starrynight.jpg',\n",
    "    folder + 'scream.jpg'\n",
    "]\n",
    "filename = filenames[0]\n",
    "\n",
    "for filename in filenames:\n",
    "    search_prime_portrait(filename, resize_factor=20, log_process=False, threads=4)"
   ]
  },
  {
   "cell_type": "code",
   "execution_count": null,
   "metadata": {},
   "outputs": [],
   "source": []
  }
 ],
 "metadata": {
  "kernelspec": {
   "display_name": "Python 3",
   "language": "python",
   "name": "python3"
  },
  "language_info": {
   "codemirror_mode": {
    "name": "ipython",
    "version": 3
   },
   "file_extension": ".py",
   "mimetype": "text/x-python",
   "name": "python",
   "nbconvert_exporter": "python",
   "pygments_lexer": "ipython3",
   "version": "3.8.5"
  }
 },
 "nbformat": 4,
 "nbformat_minor": 4
}
